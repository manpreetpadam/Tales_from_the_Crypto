{
 "cells": [
  {
   "cell_type": "code",
   "execution_count": 1,
   "metadata": {},
   "outputs": [],
   "source": [
    "import os\n",
    "import pandas as pd\n",
    "from newsapi import NewsApiClient\n",
    "%matplotlib inline"
   ]
  },
  {
   "cell_type": "code",
   "execution_count": 2,
   "metadata": {},
   "outputs": [],
   "source": [
    "from nltk.sentiment.vader import SentimentIntensityAnalyzer\n",
    "analyzer = SentimentIntensityAnalyzer()"
   ]
  },
  {
   "cell_type": "markdown",
   "metadata": {},
   "source": [
    "# News Headlines Sentiment\n",
    "\n",
    "Use the news api to pull the latest news articles for bitcoin and ethereum and create a DataFrame of sentiment scores for each coin. \n",
    "\n",
    "Use descriptive statistics to answer the following questions:\n",
    "1. Which coin had the highest mean positive score?\n",
    "2. Which coin had the highest negative score?\n",
    "3. Which coin had the highest positive score?"
   ]
  },
  {
   "cell_type": "code",
   "execution_count": 3,
   "metadata": {},
   "outputs": [],
   "source": [
    "# Read your api key environment variable\n",
    "api_key = os.getenv(\"news_api\")"
   ]
  },
  {
   "cell_type": "code",
   "execution_count": 4,
   "metadata": {},
   "outputs": [],
   "source": [
    "# Create a newsapi client\n",
    "newsapi = NewsApiClient(api_key=api_key)\n"
   ]
  },
  {
   "cell_type": "code",
   "execution_count": 5,
   "metadata": {},
   "outputs": [
    {
     "data": {
      "text/plain": [
       "{'source': {'id': 'wired', 'name': 'Wired'},\n",
       " 'author': 'Laura Mallonee',\n",
       " 'title': 'Inside the Icelandic Facility Where Bitcoin Is Mined',\n",
       " 'description': \"Cryptocurrency mining now uses more of the Nordic island nation's electricity than its homes.\",\n",
       " 'url': 'https://www.wired.com/story/iceland-bitcoin-mining-gallery/',\n",
       " 'urlToImage': 'https://media.wired.com/photos/5dbc37a4c955950008b26751/191:100/w_1280,c_limit/photo_barnard_explosions_4.jpg',\n",
       " 'publishedAt': '2019-11-03T15:00:00Z',\n",
       " 'content': 'Less than two miles from Icelands Reykjavik airport sits a nondescript metal building as monolithic and drab as a commercial poultry barn. Theres a deafening racket inside, too, but it doesnt come from clucking chickens. Instead, tens of thousands of whirring… [+3426 chars]'}"
      ]
     },
     "execution_count": 5,
     "metadata": {},
     "output_type": "execute_result"
    }
   ],
   "source": [
    "# Fetch the Bitcoin news articles\n",
    "bitcoin_news=newsapi.get_everything(q='Bitcoin',language='en',page_size=100)\n",
    "bitcoin_news['articles'][0]"
   ]
  },
  {
   "cell_type": "code",
   "execution_count": 6,
   "metadata": {},
   "outputs": [
    {
     "data": {
      "text/plain": [
       "{'source': {'id': 'mashable', 'name': 'Mashable'},\n",
       " 'author': 'Miller Kern',\n",
       " 'title': 'Debunking Blockchain once and for all',\n",
       " 'description': \"TL;DR: The in-depth Complete Blockchain and Ethereum Programmer bundle is on sale for just $24 with the code 20LEARN20. When it comes to Bitcoin, you get the gist: Cryptocurrency is on the rise right now, it's a worthy investment, and it when it comes to top …\",\n",
       " 'url': 'https://mashable.com/shopping/oct-20-blockchain-and-ethereum-programmer-online-courses/',\n",
       " 'urlToImage': 'https://mondrian.mashable.com/2019%252F10%252F20%252F20%252Fd451f6dc63634e7ebc1a6884f0de511f.0108b.jpg%252F1200x630.jpg?signature=wXr1QUIZY8rWVXkvW6qxTgQk24E=',\n",
       " 'publishedAt': '2019-10-20T09:00:00Z',\n",
       " 'content': \"TL;DR: The in-depth Complete Blockchain and Ethereum Programmer bundle is on sale for just $24 with the code 20LEARN20.\\r\\nWhen it comes to Bitcoin, you get the gist: Cryptocurrency is on the rise right now, it's a worthy investment, and it when it comes to top… [+1491 chars]\"}"
      ]
     },
     "execution_count": 6,
     "metadata": {},
     "output_type": "execute_result"
    }
   ],
   "source": [
    "# Fetch the Ethereum news articles\n",
    "ethereum_news=newsapi.get_everything(q='Ethereum',language='en',page_size=100)\n",
    "ethereum_news['articles'][0]"
   ]
  },
  {
   "cell_type": "code",
   "execution_count": 8,
   "metadata": {},
   "outputs": [],
   "source": [
    "def generate_sentiments(articles):\n",
    "    sentiments=[]\n",
    "    for article in articles:\n",
    "        try:\n",
    "            text = article[\"content\"]\n",
    "            date = article[\"publishedAt\"][:10]\n",
    "            sentiment = analyzer.polarity_scores(text)\n",
    "            compound = sentiment[\"compound\"]\n",
    "            pos = sentiment[\"pos\"]\n",
    "            neu = sentiment[\"neu\"]\n",
    "            neg = sentiment[\"neg\"]\n",
    "\n",
    "            sentiments.append({\n",
    "                \"Text\": text,\n",
    "                \"Date\": date,\n",
    "                \"Compound\": compound,\n",
    "                \"Positive\": pos,\n",
    "                \"Negative\": neg,\n",
    "                \"Neutral\": neu\n",
    "\n",
    "            })\n",
    "        except AttributeError:\n",
    "            pass\n",
    "                \n",
    "    return sentiments"
   ]
  },
  {
   "cell_type": "code",
   "execution_count": 61,
   "metadata": {},
   "outputs": [
    {
     "data": {
      "text/html": [
       "<div>\n",
       "<style scoped>\n",
       "    .dataframe tbody tr th:only-of-type {\n",
       "        vertical-align: middle;\n",
       "    }\n",
       "\n",
       "    .dataframe tbody tr th {\n",
       "        vertical-align: top;\n",
       "    }\n",
       "\n",
       "    .dataframe thead th {\n",
       "        text-align: right;\n",
       "    }\n",
       "</style>\n",
       "<table border=\"1\" class=\"dataframe\">\n",
       "  <thead>\n",
       "    <tr style=\"text-align: right;\">\n",
       "      <th></th>\n",
       "      <th>Compound</th>\n",
       "      <th>Negative</th>\n",
       "      <th>Neutral</th>\n",
       "      <th>Positive</th>\n",
       "      <th>Text</th>\n",
       "    </tr>\n",
       "  </thead>\n",
       "  <tbody>\n",
       "    <tr>\n",
       "      <th>0</th>\n",
       "      <td>-0.1531</td>\n",
       "      <td>0.039</td>\n",
       "      <td>0.961</td>\n",
       "      <td>0.000</td>\n",
       "      <td>Less than two miles from Icelands Reykjavik ai...</td>\n",
       "    </tr>\n",
       "    <tr>\n",
       "      <th>1</th>\n",
       "      <td>0.2263</td>\n",
       "      <td>0.000</td>\n",
       "      <td>0.960</td>\n",
       "      <td>0.040</td>\n",
       "      <td>At least that's the idea. While it's not as in...</td>\n",
       "    </tr>\n",
       "    <tr>\n",
       "      <th>2</th>\n",
       "      <td>0.0000</td>\n",
       "      <td>0.000</td>\n",
       "      <td>1.000</td>\n",
       "      <td>0.000</td>\n",
       "      <td>High school students in France may be among th...</td>\n",
       "    </tr>\n",
       "    <tr>\n",
       "      <th>3</th>\n",
       "      <td>0.4404</td>\n",
       "      <td>0.000</td>\n",
       "      <td>0.941</td>\n",
       "      <td>0.059</td>\n",
       "      <td>TL;DR: The in-depth Complete Blockchain and Et...</td>\n",
       "    </tr>\n",
       "    <tr>\n",
       "      <th>4</th>\n",
       "      <td>0.5070</td>\n",
       "      <td>0.000</td>\n",
       "      <td>0.931</td>\n",
       "      <td>0.069</td>\n",
       "      <td>Our robot colleague Satoshi Nakaboto writes ab...</td>\n",
       "    </tr>\n",
       "  </tbody>\n",
       "</table>\n",
       "</div>"
      ],
      "text/plain": [
       "   Compound  Negative  Neutral  Positive  \\\n",
       "0   -0.1531     0.039    0.961     0.000   \n",
       "1    0.2263     0.000    0.960     0.040   \n",
       "2    0.0000     0.000    1.000     0.000   \n",
       "3    0.4404     0.000    0.941     0.059   \n",
       "4    0.5070     0.000    0.931     0.069   \n",
       "\n",
       "                                                Text  \n",
       "0  Less than two miles from Icelands Reykjavik ai...  \n",
       "1  At least that's the idea. While it's not as in...  \n",
       "2  High school students in France may be among th...  \n",
       "3  TL;DR: The in-depth Complete Blockchain and Et...  \n",
       "4  Our robot colleague Satoshi Nakaboto writes ab...  "
      ]
     },
     "execution_count": 61,
     "metadata": {},
     "output_type": "execute_result"
    }
   ],
   "source": [
    "# Create the Bitcoin sentiment scores DataFrame\n",
    "bitcoin_sentiments=pd.DataFrame(generate_sentiments(bitcoin_news['articles']))\n",
    "cols = ['Compound','Negative','Neutral','Positive','Text']\n",
    "bitcoin_sentiments = bitcoin_sentiments[cols]\n",
    "\n",
    "bitcoin_sentiments.head()\n"
   ]
  },
  {
   "cell_type": "code",
   "execution_count": 11,
   "metadata": {},
   "outputs": [
    {
     "data": {
      "text/html": [
       "<div>\n",
       "<style scoped>\n",
       "    .dataframe tbody tr th:only-of-type {\n",
       "        vertical-align: middle;\n",
       "    }\n",
       "\n",
       "    .dataframe tbody tr th {\n",
       "        vertical-align: top;\n",
       "    }\n",
       "\n",
       "    .dataframe thead th {\n",
       "        text-align: right;\n",
       "    }\n",
       "</style>\n",
       "<table border=\"1\" class=\"dataframe\">\n",
       "  <thead>\n",
       "    <tr style=\"text-align: right;\">\n",
       "      <th></th>\n",
       "      <th>Compound</th>\n",
       "      <th>Negative</th>\n",
       "      <th>Neutral</th>\n",
       "      <th>Positive</th>\n",
       "      <th>Text</th>\n",
       "    </tr>\n",
       "  </thead>\n",
       "  <tbody>\n",
       "    <tr>\n",
       "      <th>0</th>\n",
       "      <td>0.4404</td>\n",
       "      <td>0.000</td>\n",
       "      <td>0.941</td>\n",
       "      <td>0.059</td>\n",
       "      <td>TL;DR: The in-depth Complete Blockchain and Et...</td>\n",
       "    </tr>\n",
       "    <tr>\n",
       "      <th>1</th>\n",
       "      <td>0.6249</td>\n",
       "      <td>0.000</td>\n",
       "      <td>0.900</td>\n",
       "      <td>0.100</td>\n",
       "      <td>Disrupt Berlin is right around the corner. And...</td>\n",
       "    </tr>\n",
       "    <tr>\n",
       "      <th>2</th>\n",
       "      <td>0.2263</td>\n",
       "      <td>0.000</td>\n",
       "      <td>0.960</td>\n",
       "      <td>0.040</td>\n",
       "      <td>At least that's the idea. While it's not as in...</td>\n",
       "    </tr>\n",
       "    <tr>\n",
       "      <th>3</th>\n",
       "      <td>0.4601</td>\n",
       "      <td>0.000</td>\n",
       "      <td>0.915</td>\n",
       "      <td>0.085</td>\n",
       "      <td>he plaBy now, you should almost certainly know...</td>\n",
       "    </tr>\n",
       "    <tr>\n",
       "      <th>4</th>\n",
       "      <td>-0.3089</td>\n",
       "      <td>0.055</td>\n",
       "      <td>0.945</td>\n",
       "      <td>0.000</td>\n",
       "      <td>Blockchain has been picking up the pace since ...</td>\n",
       "    </tr>\n",
       "  </tbody>\n",
       "</table>\n",
       "</div>"
      ],
      "text/plain": [
       "   Compound  Negative  Neutral  Positive  \\\n",
       "0    0.4404     0.000    0.941     0.059   \n",
       "1    0.6249     0.000    0.900     0.100   \n",
       "2    0.2263     0.000    0.960     0.040   \n",
       "3    0.4601     0.000    0.915     0.085   \n",
       "4   -0.3089     0.055    0.945     0.000   \n",
       "\n",
       "                                                Text  \n",
       "0  TL;DR: The in-depth Complete Blockchain and Et...  \n",
       "1  Disrupt Berlin is right around the corner. And...  \n",
       "2  At least that's the idea. While it's not as in...  \n",
       "3  he plaBy now, you should almost certainly know...  \n",
       "4  Blockchain has been picking up the pace since ...  "
      ]
     },
     "execution_count": 11,
     "metadata": {},
     "output_type": "execute_result"
    }
   ],
   "source": [
    "# Create the ethereum sentiment scores DataFrame\n",
    "ethereum_sentiments=pd.DataFrame(generate_sentiments(ethereum_news['articles']))\n",
    "cols = ['Compound','Negative','Neutral','Positive','Text']\n",
    "ethereum_sentiments = ethereum_sentiments[cols]\n",
    "\n",
    "ethereum_sentiments.head()"
   ]
  },
  {
   "cell_type": "code",
   "execution_count": 12,
   "metadata": {},
   "outputs": [
    {
     "data": {
      "text/html": [
       "<div>\n",
       "<style scoped>\n",
       "    .dataframe tbody tr th:only-of-type {\n",
       "        vertical-align: middle;\n",
       "    }\n",
       "\n",
       "    .dataframe tbody tr th {\n",
       "        vertical-align: top;\n",
       "    }\n",
       "\n",
       "    .dataframe thead th {\n",
       "        text-align: right;\n",
       "    }\n",
       "</style>\n",
       "<table border=\"1\" class=\"dataframe\">\n",
       "  <thead>\n",
       "    <tr style=\"text-align: right;\">\n",
       "      <th></th>\n",
       "      <th>Compound</th>\n",
       "      <th>Negative</th>\n",
       "      <th>Neutral</th>\n",
       "      <th>Positive</th>\n",
       "    </tr>\n",
       "  </thead>\n",
       "  <tbody>\n",
       "    <tr>\n",
       "      <th>count</th>\n",
       "      <td>97.000000</td>\n",
       "      <td>97.000000</td>\n",
       "      <td>97.000000</td>\n",
       "      <td>97.000000</td>\n",
       "    </tr>\n",
       "    <tr>\n",
       "      <th>mean</th>\n",
       "      <td>0.145687</td>\n",
       "      <td>0.039804</td>\n",
       "      <td>0.899031</td>\n",
       "      <td>0.061186</td>\n",
       "    </tr>\n",
       "    <tr>\n",
       "      <th>std</th>\n",
       "      <td>0.439850</td>\n",
       "      <td>0.054928</td>\n",
       "      <td>0.075462</td>\n",
       "      <td>0.053192</td>\n",
       "    </tr>\n",
       "    <tr>\n",
       "      <th>min</th>\n",
       "      <td>-0.831600</td>\n",
       "      <td>0.000000</td>\n",
       "      <td>0.640000</td>\n",
       "      <td>0.000000</td>\n",
       "    </tr>\n",
       "    <tr>\n",
       "      <th>25%</th>\n",
       "      <td>-0.102700</td>\n",
       "      <td>0.000000</td>\n",
       "      <td>0.857000</td>\n",
       "      <td>0.000000</td>\n",
       "    </tr>\n",
       "    <tr>\n",
       "      <th>50%</th>\n",
       "      <td>0.177900</td>\n",
       "      <td>0.000000</td>\n",
       "      <td>0.926000</td>\n",
       "      <td>0.066000</td>\n",
       "    </tr>\n",
       "    <tr>\n",
       "      <th>75%</th>\n",
       "      <td>0.507000</td>\n",
       "      <td>0.068000</td>\n",
       "      <td>0.945000</td>\n",
       "      <td>0.087000</td>\n",
       "    </tr>\n",
       "    <tr>\n",
       "      <th>max</th>\n",
       "      <td>0.914100</td>\n",
       "      <td>0.271000</td>\n",
       "      <td>1.000000</td>\n",
       "      <td>0.249000</td>\n",
       "    </tr>\n",
       "  </tbody>\n",
       "</table>\n",
       "</div>"
      ],
      "text/plain": [
       "        Compound   Negative    Neutral   Positive\n",
       "count  97.000000  97.000000  97.000000  97.000000\n",
       "mean    0.145687   0.039804   0.899031   0.061186\n",
       "std     0.439850   0.054928   0.075462   0.053192\n",
       "min    -0.831600   0.000000   0.640000   0.000000\n",
       "25%    -0.102700   0.000000   0.857000   0.000000\n",
       "50%     0.177900   0.000000   0.926000   0.066000\n",
       "75%     0.507000   0.068000   0.945000   0.087000\n",
       "max     0.914100   0.271000   1.000000   0.249000"
      ]
     },
     "execution_count": 12,
     "metadata": {},
     "output_type": "execute_result"
    }
   ],
   "source": [
    "# Describe the Bitcoin Sentiment\n",
    "bitcoin_sentiments.describe()"
   ]
  },
  {
   "cell_type": "code",
   "execution_count": 13,
   "metadata": {},
   "outputs": [
    {
     "data": {
      "text/html": [
       "<div>\n",
       "<style scoped>\n",
       "    .dataframe tbody tr th:only-of-type {\n",
       "        vertical-align: middle;\n",
       "    }\n",
       "\n",
       "    .dataframe tbody tr th {\n",
       "        vertical-align: top;\n",
       "    }\n",
       "\n",
       "    .dataframe thead th {\n",
       "        text-align: right;\n",
       "    }\n",
       "</style>\n",
       "<table border=\"1\" class=\"dataframe\">\n",
       "  <thead>\n",
       "    <tr style=\"text-align: right;\">\n",
       "      <th></th>\n",
       "      <th>Compound</th>\n",
       "      <th>Negative</th>\n",
       "      <th>Neutral</th>\n",
       "      <th>Positive</th>\n",
       "    </tr>\n",
       "  </thead>\n",
       "  <tbody>\n",
       "    <tr>\n",
       "      <th>count</th>\n",
       "      <td>96.000000</td>\n",
       "      <td>96.000000</td>\n",
       "      <td>96.000000</td>\n",
       "      <td>96.000000</td>\n",
       "    </tr>\n",
       "    <tr>\n",
       "      <th>mean</th>\n",
       "      <td>0.178518</td>\n",
       "      <td>0.026906</td>\n",
       "      <td>0.916385</td>\n",
       "      <td>0.056698</td>\n",
       "    </tr>\n",
       "    <tr>\n",
       "      <th>std</th>\n",
       "      <td>0.410332</td>\n",
       "      <td>0.048792</td>\n",
       "      <td>0.072458</td>\n",
       "      <td>0.055863</td>\n",
       "    </tr>\n",
       "    <tr>\n",
       "      <th>min</th>\n",
       "      <td>-0.877900</td>\n",
       "      <td>0.000000</td>\n",
       "      <td>0.551000</td>\n",
       "      <td>0.000000</td>\n",
       "    </tr>\n",
       "    <tr>\n",
       "      <th>25%</th>\n",
       "      <td>0.000000</td>\n",
       "      <td>0.000000</td>\n",
       "      <td>0.889500</td>\n",
       "      <td>0.000000</td>\n",
       "    </tr>\n",
       "    <tr>\n",
       "      <th>50%</th>\n",
       "      <td>0.250000</td>\n",
       "      <td>0.000000</td>\n",
       "      <td>0.930000</td>\n",
       "      <td>0.057000</td>\n",
       "    </tr>\n",
       "    <tr>\n",
       "      <th>75%</th>\n",
       "      <td>0.502100</td>\n",
       "      <td>0.045250</td>\n",
       "      <td>0.958000</td>\n",
       "      <td>0.098500</td>\n",
       "    </tr>\n",
       "    <tr>\n",
       "      <th>max</th>\n",
       "      <td>0.822100</td>\n",
       "      <td>0.287000</td>\n",
       "      <td>1.000000</td>\n",
       "      <td>0.239000</td>\n",
       "    </tr>\n",
       "  </tbody>\n",
       "</table>\n",
       "</div>"
      ],
      "text/plain": [
       "        Compound   Negative    Neutral   Positive\n",
       "count  96.000000  96.000000  96.000000  96.000000\n",
       "mean    0.178518   0.026906   0.916385   0.056698\n",
       "std     0.410332   0.048792   0.072458   0.055863\n",
       "min    -0.877900   0.000000   0.551000   0.000000\n",
       "25%     0.000000   0.000000   0.889500   0.000000\n",
       "50%     0.250000   0.000000   0.930000   0.057000\n",
       "75%     0.502100   0.045250   0.958000   0.098500\n",
       "max     0.822100   0.287000   1.000000   0.239000"
      ]
     },
     "execution_count": 13,
     "metadata": {},
     "output_type": "execute_result"
    }
   ],
   "source": [
    "# Describe the Ethereum Sentiment\n",
    "ethereum_sentiments.describe()"
   ]
  },
  {
   "cell_type": "markdown",
   "metadata": {},
   "source": [
    "### Questions:\n",
    "\n",
    "Q: Which coin had the highest mean positive score?\n",
    "\n",
    "A: \n",
    "\n",
    "Q: Which coin had the highest compound score?\n",
    "\n",
    "A: \n",
    "\n",
    "Q. Which coin had the highest positive score?\n",
    "\n",
    "A: "
   ]
  },
  {
   "cell_type": "markdown",
   "metadata": {},
   "source": [
    "---"
   ]
  },
  {
   "cell_type": "markdown",
   "metadata": {},
   "source": [
    "# Tokenizer\n",
    "\n",
    "In this section, you will use NLTK and Python to tokenize the text for each coin. Be sure to:\n",
    "1. Lowercase each word\n",
    "2. Remove Punctuation\n",
    "3. Remove Stopwords"
   ]
  },
  {
   "cell_type": "code",
   "execution_count": 14,
   "metadata": {},
   "outputs": [],
   "source": [
    "from nltk.tokenize import word_tokenize, sent_tokenize\n",
    "from nltk.corpus import stopwords\n",
    "from nltk.stem import WordNetLemmatizer, PorterStemmer\n",
    "from string import punctuation\n",
    "import re"
   ]
  },
  {
   "cell_type": "code",
   "execution_count": null,
   "metadata": {},
   "outputs": [],
   "source": [
    "# Expand the default stopwords list if necessary"
   ]
  },
  {
   "cell_type": "code",
   "execution_count": 59,
   "metadata": {},
   "outputs": [],
   "source": [
    "# Complete the tokenizer function\n",
    "def tokenizer(text):\n",
    "    regex = re.compile(\"[^a-zA-Z ]\")\n",
    "    lemmatizer = WordNetLemmatizer()\n",
    "    sentence_clean=regex.sub('', text)\n",
    "    words=word_tokenize(sentence_clean)\n",
    "    lem = [lemmatizer.lemmatize(word) for word in words]\n",
    "    sw = set(stopwords.words('english'))\n",
    "    sw_addon = {'(',')',',','.','[',']',':',':'}\n",
    "    output = [word.lower() for word in lem if word.lower() not in sw.union(sw_addon)]\n",
    "    return output\n"
   ]
  },
  {
   "cell_type": "code",
   "execution_count": 62,
   "metadata": {},
   "outputs": [
    {
     "data": {
      "text/html": [
       "<div>\n",
       "<style scoped>\n",
       "    .dataframe tbody tr th:only-of-type {\n",
       "        vertical-align: middle;\n",
       "    }\n",
       "\n",
       "    .dataframe tbody tr th {\n",
       "        vertical-align: top;\n",
       "    }\n",
       "\n",
       "    .dataframe thead th {\n",
       "        text-align: right;\n",
       "    }\n",
       "</style>\n",
       "<table border=\"1\" class=\"dataframe\">\n",
       "  <thead>\n",
       "    <tr style=\"text-align: right;\">\n",
       "      <th></th>\n",
       "      <th>Compound</th>\n",
       "      <th>Negative</th>\n",
       "      <th>Neutral</th>\n",
       "      <th>Positive</th>\n",
       "      <th>Text</th>\n",
       "      <th>Tokens</th>\n",
       "    </tr>\n",
       "  </thead>\n",
       "  <tbody>\n",
       "    <tr>\n",
       "      <th>0</th>\n",
       "      <td>-0.1531</td>\n",
       "      <td>0.039</td>\n",
       "      <td>0.961</td>\n",
       "      <td>0.000</td>\n",
       "      <td>Less than two miles from Icelands Reykjavik ai...</td>\n",
       "      <td>[less, two, mile, icelands, reykjavik, airport...</td>\n",
       "    </tr>\n",
       "    <tr>\n",
       "      <th>1</th>\n",
       "      <td>0.2263</td>\n",
       "      <td>0.000</td>\n",
       "      <td>0.960</td>\n",
       "      <td>0.040</td>\n",
       "      <td>At least that's the idea. While it's not as in...</td>\n",
       "      <td>[least, thats, idea, intensive, mining, bitcoi...</td>\n",
       "    </tr>\n",
       "    <tr>\n",
       "      <th>2</th>\n",
       "      <td>0.0000</td>\n",
       "      <td>0.000</td>\n",
       "      <td>1.000</td>\n",
       "      <td>0.000</td>\n",
       "      <td>High school students in France may be among th...</td>\n",
       "      <td>[high, school, student, france, may, among, fi...</td>\n",
       "    </tr>\n",
       "    <tr>\n",
       "      <th>3</th>\n",
       "      <td>0.4404</td>\n",
       "      <td>0.000</td>\n",
       "      <td>0.941</td>\n",
       "      <td>0.059</td>\n",
       "      <td>TL;DR: The in-depth Complete Blockchain and Et...</td>\n",
       "      <td>[tldr, indepth, complete, blockchain, ethereum...</td>\n",
       "    </tr>\n",
       "    <tr>\n",
       "      <th>4</th>\n",
       "      <td>0.5070</td>\n",
       "      <td>0.000</td>\n",
       "      <td>0.931</td>\n",
       "      <td>0.069</td>\n",
       "      <td>Our robot colleague Satoshi Nakaboto writes ab...</td>\n",
       "      <td>[robot, colleague, satoshi, nakaboto, writes, ...</td>\n",
       "    </tr>\n",
       "    <tr>\n",
       "      <th>...</th>\n",
       "      <td>...</td>\n",
       "      <td>...</td>\n",
       "      <td>...</td>\n",
       "      <td>...</td>\n",
       "      <td>...</td>\n",
       "      <td>...</td>\n",
       "    </tr>\n",
       "    <tr>\n",
       "      <th>92</th>\n",
       "      <td>0.0000</td>\n",
       "      <td>0.000</td>\n",
       "      <td>1.000</td>\n",
       "      <td>0.000</td>\n",
       "      <td>Bitcoin prices have quietly been in meltdown m...</td>\n",
       "      <td>[bitcoin, price, quietly, meltdown, mode, rece...</td>\n",
       "    </tr>\n",
       "    <tr>\n",
       "      <th>93</th>\n",
       "      <td>0.1531</td>\n",
       "      <td>0.037</td>\n",
       "      <td>0.911</td>\n",
       "      <td>0.051</td>\n",
       "      <td>Illustration by Stephen Shankland/CNET\\r\\nAfte...</td>\n",
       "      <td>[illustration, stephen, shanklandcnetafter, fo...</td>\n",
       "    </tr>\n",
       "    <tr>\n",
       "      <th>94</th>\n",
       "      <td>0.2023</td>\n",
       "      <td>0.047</td>\n",
       "      <td>0.887</td>\n",
       "      <td>0.067</td>\n",
       "      <td>After seeing its IPO dreams slashed earlier th...</td>\n",
       "      <td>[seeing, ipo, dream, slashed, earlier, year, b...</td>\n",
       "    </tr>\n",
       "    <tr>\n",
       "      <th>95</th>\n",
       "      <td>-0.7140</td>\n",
       "      <td>0.184</td>\n",
       "      <td>0.736</td>\n",
       "      <td>0.080</td>\n",
       "      <td>I hate to be the bearer of bad news, but victi...</td>\n",
       "      <td>[hate, bearer, bad, news, victim, lost, money,...</td>\n",
       "    </tr>\n",
       "    <tr>\n",
       "      <th>96</th>\n",
       "      <td>0.8481</td>\n",
       "      <td>0.000</td>\n",
       "      <td>0.788</td>\n",
       "      <td>0.212</td>\n",
       "      <td>Graphic by Pixabay/Illustration by CNET\\r\\nWit...</td>\n",
       "      <td>[graphic, pixabayillustration, cnetwith, end, ...</td>\n",
       "    </tr>\n",
       "  </tbody>\n",
       "</table>\n",
       "<p>97 rows × 6 columns</p>\n",
       "</div>"
      ],
      "text/plain": [
       "    Compound  Negative  Neutral  Positive  \\\n",
       "0    -0.1531     0.039    0.961     0.000   \n",
       "1     0.2263     0.000    0.960     0.040   \n",
       "2     0.0000     0.000    1.000     0.000   \n",
       "3     0.4404     0.000    0.941     0.059   \n",
       "4     0.5070     0.000    0.931     0.069   \n",
       "..       ...       ...      ...       ...   \n",
       "92    0.0000     0.000    1.000     0.000   \n",
       "93    0.1531     0.037    0.911     0.051   \n",
       "94    0.2023     0.047    0.887     0.067   \n",
       "95   -0.7140     0.184    0.736     0.080   \n",
       "96    0.8481     0.000    0.788     0.212   \n",
       "\n",
       "                                                 Text  \\\n",
       "0   Less than two miles from Icelands Reykjavik ai...   \n",
       "1   At least that's the idea. While it's not as in...   \n",
       "2   High school students in France may be among th...   \n",
       "3   TL;DR: The in-depth Complete Blockchain and Et...   \n",
       "4   Our robot colleague Satoshi Nakaboto writes ab...   \n",
       "..                                                ...   \n",
       "92  Bitcoin prices have quietly been in meltdown m...   \n",
       "93  Illustration by Stephen Shankland/CNET\\r\\nAfte...   \n",
       "94  After seeing its IPO dreams slashed earlier th...   \n",
       "95  I hate to be the bearer of bad news, but victi...   \n",
       "96  Graphic by Pixabay/Illustration by CNET\\r\\nWit...   \n",
       "\n",
       "                                               Tokens  \n",
       "0   [less, two, mile, icelands, reykjavik, airport...  \n",
       "1   [least, thats, idea, intensive, mining, bitcoi...  \n",
       "2   [high, school, student, france, may, among, fi...  \n",
       "3   [tldr, indepth, complete, blockchain, ethereum...  \n",
       "4   [robot, colleague, satoshi, nakaboto, writes, ...  \n",
       "..                                                ...  \n",
       "92  [bitcoin, price, quietly, meltdown, mode, rece...  \n",
       "93  [illustration, stephen, shanklandcnetafter, fo...  \n",
       "94  [seeing, ipo, dream, slashed, earlier, year, b...  \n",
       "95  [hate, bearer, bad, news, victim, lost, money,...  \n",
       "96  [graphic, pixabayillustration, cnetwith, end, ...  \n",
       "\n",
       "[97 rows x 6 columns]"
      ]
     },
     "execution_count": 62,
     "metadata": {},
     "output_type": "execute_result"
    }
   ],
   "source": [
    "# Create a new tokens column for bitcoin\n",
    "bitcoin_sentiments['Tokens']=[tokenizer(r) for r in bitcoin_sentiments['Text']]\n",
    "bitcoin_sentiments"
   ]
  },
  {
   "cell_type": "code",
   "execution_count": 63,
   "metadata": {},
   "outputs": [
    {
     "data": {
      "text/html": [
       "<div>\n",
       "<style scoped>\n",
       "    .dataframe tbody tr th:only-of-type {\n",
       "        vertical-align: middle;\n",
       "    }\n",
       "\n",
       "    .dataframe tbody tr th {\n",
       "        vertical-align: top;\n",
       "    }\n",
       "\n",
       "    .dataframe thead th {\n",
       "        text-align: right;\n",
       "    }\n",
       "</style>\n",
       "<table border=\"1\" class=\"dataframe\">\n",
       "  <thead>\n",
       "    <tr style=\"text-align: right;\">\n",
       "      <th></th>\n",
       "      <th>Compound</th>\n",
       "      <th>Negative</th>\n",
       "      <th>Neutral</th>\n",
       "      <th>Positive</th>\n",
       "      <th>Text</th>\n",
       "      <th>Tokens</th>\n",
       "    </tr>\n",
       "  </thead>\n",
       "  <tbody>\n",
       "    <tr>\n",
       "      <th>0</th>\n",
       "      <td>0.4404</td>\n",
       "      <td>0.000</td>\n",
       "      <td>0.941</td>\n",
       "      <td>0.059</td>\n",
       "      <td>TL;DR: The in-depth Complete Blockchain and Et...</td>\n",
       "      <td>[tldr, indepth, complete, blockchain, ethereum...</td>\n",
       "    </tr>\n",
       "    <tr>\n",
       "      <th>1</th>\n",
       "      <td>0.6249</td>\n",
       "      <td>0.000</td>\n",
       "      <td>0.900</td>\n",
       "      <td>0.100</td>\n",
       "      <td>Disrupt Berlin is right around the corner. And...</td>\n",
       "      <td>[disrupt, berlin, right, around, corner, plent...</td>\n",
       "    </tr>\n",
       "    <tr>\n",
       "      <th>2</th>\n",
       "      <td>0.2263</td>\n",
       "      <td>0.000</td>\n",
       "      <td>0.960</td>\n",
       "      <td>0.040</td>\n",
       "      <td>At least that's the idea. While it's not as in...</td>\n",
       "      <td>[least, thats, idea, intensive, mining, bitcoi...</td>\n",
       "    </tr>\n",
       "    <tr>\n",
       "      <th>3</th>\n",
       "      <td>0.4601</td>\n",
       "      <td>0.000</td>\n",
       "      <td>0.915</td>\n",
       "      <td>0.085</td>\n",
       "      <td>he plaBy now, you should almost certainly know...</td>\n",
       "      <td>[plaby, almost, certainly, know, ethereum, eth...</td>\n",
       "    </tr>\n",
       "    <tr>\n",
       "      <th>4</th>\n",
       "      <td>-0.3089</td>\n",
       "      <td>0.055</td>\n",
       "      <td>0.945</td>\n",
       "      <td>0.000</td>\n",
       "      <td>Blockchain has been picking up the pace since ...</td>\n",
       "      <td>[blockchain, ha, picking, pace, since, incepti...</td>\n",
       "    </tr>\n",
       "    <tr>\n",
       "      <th>...</th>\n",
       "      <td>...</td>\n",
       "      <td>...</td>\n",
       "      <td>...</td>\n",
       "      <td>...</td>\n",
       "      <td>...</td>\n",
       "      <td>...</td>\n",
       "    </tr>\n",
       "    <tr>\n",
       "      <th>91</th>\n",
       "      <td>-0.5423</td>\n",
       "      <td>0.106</td>\n",
       "      <td>0.894</td>\n",
       "      <td>0.000</td>\n",
       "      <td>A Spanish financial watchdog has issued a warn...</td>\n",
       "      <td>[spanish, financial, watchdog, ha, issued, war...</td>\n",
       "    </tr>\n",
       "    <tr>\n",
       "      <th>92</th>\n",
       "      <td>0.3818</td>\n",
       "      <td>0.000</td>\n",
       "      <td>0.936</td>\n",
       "      <td>0.064</td>\n",
       "      <td>Noelle Acheson is a veteran of company analysi...</td>\n",
       "      <td>[noelle, acheson, veteran, company, analysis, ...</td>\n",
       "    </tr>\n",
       "    <tr>\n",
       "      <th>93</th>\n",
       "      <td>0.8221</td>\n",
       "      <td>0.000</td>\n",
       "      <td>0.798</td>\n",
       "      <td>0.202</td>\n",
       "      <td>Ethereum co-founder and founder of Consensys, ...</td>\n",
       "      <td>[ethereum, cofounder, founder, consensys, jose...</td>\n",
       "    </tr>\n",
       "    <tr>\n",
       "      <th>94</th>\n",
       "      <td>0.1027</td>\n",
       "      <td>0.000</td>\n",
       "      <td>0.968</td>\n",
       "      <td>0.032</td>\n",
       "      <td>Ethereum and Bitcoin (BTC) did not have to com...</td>\n",
       "      <td>[ethereum, bitcoin, btc, comply, regulation, a...</td>\n",
       "    </tr>\n",
       "    <tr>\n",
       "      <th>95</th>\n",
       "      <td>0.0000</td>\n",
       "      <td>0.000</td>\n",
       "      <td>1.000</td>\n",
       "      <td>0.000</td>\n",
       "      <td>Bitski, a developer-focused blockchain wallet ...</td>\n",
       "      <td>[bitski, developerfocused, blockchain, wallet,...</td>\n",
       "    </tr>\n",
       "  </tbody>\n",
       "</table>\n",
       "<p>96 rows × 6 columns</p>\n",
       "</div>"
      ],
      "text/plain": [
       "    Compound  Negative  Neutral  Positive  \\\n",
       "0     0.4404     0.000    0.941     0.059   \n",
       "1     0.6249     0.000    0.900     0.100   \n",
       "2     0.2263     0.000    0.960     0.040   \n",
       "3     0.4601     0.000    0.915     0.085   \n",
       "4    -0.3089     0.055    0.945     0.000   \n",
       "..       ...       ...      ...       ...   \n",
       "91   -0.5423     0.106    0.894     0.000   \n",
       "92    0.3818     0.000    0.936     0.064   \n",
       "93    0.8221     0.000    0.798     0.202   \n",
       "94    0.1027     0.000    0.968     0.032   \n",
       "95    0.0000     0.000    1.000     0.000   \n",
       "\n",
       "                                                 Text  \\\n",
       "0   TL;DR: The in-depth Complete Blockchain and Et...   \n",
       "1   Disrupt Berlin is right around the corner. And...   \n",
       "2   At least that's the idea. While it's not as in...   \n",
       "3   he plaBy now, you should almost certainly know...   \n",
       "4   Blockchain has been picking up the pace since ...   \n",
       "..                                                ...   \n",
       "91  A Spanish financial watchdog has issued a warn...   \n",
       "92  Noelle Acheson is a veteran of company analysi...   \n",
       "93  Ethereum co-founder and founder of Consensys, ...   \n",
       "94  Ethereum and Bitcoin (BTC) did not have to com...   \n",
       "95  Bitski, a developer-focused blockchain wallet ...   \n",
       "\n",
       "                                               Tokens  \n",
       "0   [tldr, indepth, complete, blockchain, ethereum...  \n",
       "1   [disrupt, berlin, right, around, corner, plent...  \n",
       "2   [least, thats, idea, intensive, mining, bitcoi...  \n",
       "3   [plaby, almost, certainly, know, ethereum, eth...  \n",
       "4   [blockchain, ha, picking, pace, since, incepti...  \n",
       "..                                                ...  \n",
       "91  [spanish, financial, watchdog, ha, issued, war...  \n",
       "92  [noelle, acheson, veteran, company, analysis, ...  \n",
       "93  [ethereum, cofounder, founder, consensys, jose...  \n",
       "94  [ethereum, bitcoin, btc, comply, regulation, a...  \n",
       "95  [bitski, developerfocused, blockchain, wallet,...  \n",
       "\n",
       "[96 rows x 6 columns]"
      ]
     },
     "execution_count": 63,
     "metadata": {},
     "output_type": "execute_result"
    }
   ],
   "source": [
    "# Create a new tokens column for ethereum\n",
    "ethereum_sentiments['Tokens']=[tokenizer(r) for r in ethereum_sentiments['Text']]\n",
    "ethereum_sentiments"
   ]
  },
  {
   "cell_type": "markdown",
   "metadata": {},
   "source": [
    "---"
   ]
  },
  {
   "cell_type": "markdown",
   "metadata": {},
   "source": [
    "# NGrams and Frequency Analysis\n",
    "\n",
    "In this section you will look at the ngrams and word frequency for each coin. \n",
    "\n",
    "1. Use NLTK to produce the n-grams for N = 2. \n",
    "2. List the top 10 words for each coin. "
   ]
  },
  {
   "cell_type": "code",
   "execution_count": 64,
   "metadata": {},
   "outputs": [],
   "source": [
    "from collections import Counter\n",
    "from nltk import ngrams"
   ]
  },
  {
   "cell_type": "code",
   "execution_count": 73,
   "metadata": {},
   "outputs": [
    {
     "data": {
      "text/plain": [
       "{('less', 'two'): 1,\n",
       " ('two', 'mile'): 1,\n",
       " ('mile', 'icelands'): 1,\n",
       " ('icelands', 'reykjavik'): 1,\n",
       " ('reykjavik', 'airport'): 1,\n",
       " ('airport', 'sits'): 1,\n",
       " ('sits', 'nondescript'): 1,\n",
       " ('nondescript', 'metal'): 1,\n",
       " ('metal', 'building'): 1,\n",
       " ('building', 'monolithic'): 1,\n",
       " ('monolithic', 'drab'): 1,\n",
       " ('drab', 'commercial'): 1,\n",
       " ('commercial', 'poultry'): 1,\n",
       " ('poultry', 'barn'): 1,\n",
       " ('barn', 'theres'): 1,\n",
       " ('theres', 'deafening'): 1,\n",
       " ('deafening', 'racket'): 1,\n",
       " ('racket', 'inside'): 1,\n",
       " ('inside', 'doesnt'): 1,\n",
       " ('doesnt', 'come'): 1,\n",
       " ('come', 'clucking'): 1,\n",
       " ('clucking', 'chicken'): 1,\n",
       " ('chicken', 'instead'): 1,\n",
       " ('instead', 'ten'): 1,\n",
       " ('ten', 'thousand'): 1,\n",
       " ('thousand', 'whirring'): 1,\n",
       " ('whirring', 'char'): 1}"
      ]
     },
     "execution_count": 73,
     "metadata": {},
     "output_type": "execute_result"
    }
   ],
   "source": [
    "# Generate the Bitcoin N-grams where N=2\n",
    "bitcoin_bigram_counts = [dict(Counter(ngrams(r, n=2))) for r in bitcoin_sentiments.Tokens]\n",
    "bitcoin_bigram_counts[0]"
   ]
  },
  {
   "cell_type": "code",
   "execution_count": 74,
   "metadata": {},
   "outputs": [
    {
     "data": {
      "text/plain": [
       "{('tldr', 'indepth'): 1,\n",
       " ('indepth', 'complete'): 1,\n",
       " ('complete', 'blockchain'): 1,\n",
       " ('blockchain', 'ethereum'): 1,\n",
       " ('ethereum', 'programmer'): 1,\n",
       " ('programmer', 'bundle'): 1,\n",
       " ('bundle', 'sale'): 1,\n",
       " ('sale', 'code'): 1,\n",
       " ('code', 'learnwhen'): 1,\n",
       " ('learnwhen', 'come'): 1,\n",
       " ('come', 'bitcoin'): 1,\n",
       " ('bitcoin', 'get'): 1,\n",
       " ('get', 'gist'): 1,\n",
       " ('gist', 'cryptocurrency'): 1,\n",
       " ('cryptocurrency', 'rise'): 1,\n",
       " ('rise', 'right'): 1,\n",
       " ('right', 'worthy'): 1,\n",
       " ('worthy', 'investment'): 1,\n",
       " ('investment', 'come'): 1,\n",
       " ('come', 'top'): 1,\n",
       " ('top', 'char'): 1}"
      ]
     },
     "execution_count": 74,
     "metadata": {},
     "output_type": "execute_result"
    }
   ],
   "source": [
    "# Generate the Ethereum N-grams where N=2\n",
    "ethereum_bigram_counts = [dict(Counter(ngrams(r, n=2))) for r in ethereum_sentiments.Tokens]\n",
    "ethereum_bigram_counts[0]"
   ]
  },
  {
   "cell_type": "code",
   "execution_count": 81,
   "metadata": {},
   "outputs": [],
   "source": [
    "# Use the token_count function to generate the top 10 words from each coin\n",
    "def token_count(tokens, N=10):\n",
    "    bigrams = ngrams(tokens, n=2)\n",
    "    top_10 = dict(Counter(bigrams).most_common(N))\n",
    "    return pd.DataFrame(list(top_10.items()), columns=['bigram', 'count'])\n",
    "   "
   ]
  },
  {
   "cell_type": "code",
   "execution_count": 82,
   "metadata": {},
   "outputs": [
    {
     "data": {
      "text/html": [
       "<div>\n",
       "<style scoped>\n",
       "    .dataframe tbody tr th:only-of-type {\n",
       "        vertical-align: middle;\n",
       "    }\n",
       "\n",
       "    .dataframe tbody tr th {\n",
       "        vertical-align: top;\n",
       "    }\n",
       "\n",
       "    .dataframe thead th {\n",
       "        text-align: right;\n",
       "    }\n",
       "</style>\n",
       "<table border=\"1\" class=\"dataframe\">\n",
       "  <thead>\n",
       "    <tr style=\"text-align: right;\">\n",
       "      <th></th>\n",
       "      <th>bigram</th>\n",
       "      <th>count</th>\n",
       "    </tr>\n",
       "  </thead>\n",
       "  <tbody>\n",
       "    <tr>\n",
       "      <th>0</th>\n",
       "      <td>(less two mile icelands reykjavik airport sits...</td>\n",
       "      <td>1</td>\n",
       "    </tr>\n",
       "    <tr>\n",
       "      <th>1</th>\n",
       "      <td>(least thats idea intensive mining bitcoin run...</td>\n",
       "      <td>1</td>\n",
       "    </tr>\n",
       "    <tr>\n",
       "      <th>2</th>\n",
       "      <td>(high school student france may among first pe...</td>\n",
       "      <td>1</td>\n",
       "    </tr>\n",
       "    <tr>\n",
       "      <th>3</th>\n",
       "      <td>(tldr indepth complete blockchain ethereum pro...</td>\n",
       "      <td>1</td>\n",
       "    </tr>\n",
       "    <tr>\n",
       "      <th>4</th>\n",
       "      <td>(robot colleague satoshi nakaboto writes bitco...</td>\n",
       "      <td>1</td>\n",
       "    </tr>\n",
       "    <tr>\n",
       "      <th>5</th>\n",
       "      <td>(robot colleague satoshi nakaboto writes bitco...</td>\n",
       "      <td>1</td>\n",
       "    </tr>\n",
       "    <tr>\n",
       "      <th>6</th>\n",
       "      <td>(robot colleague satoshi nakaboto writes bitco...</td>\n",
       "      <td>1</td>\n",
       "    </tr>\n",
       "    <tr>\n",
       "      <th>7</th>\n",
       "      <td>(robot colleague satoshi nakaboto writes bitco...</td>\n",
       "      <td>1</td>\n",
       "    </tr>\n",
       "    <tr>\n",
       "      <th>8</th>\n",
       "      <td>(twitter square ceo jack dorsey ha attended bi...</td>\n",
       "      <td>1</td>\n",
       "    </tr>\n",
       "    <tr>\n",
       "      <th>9</th>\n",
       "      <td>(robot colleague satoshi nakaboto writes bitco...</td>\n",
       "      <td>1</td>\n",
       "    </tr>\n",
       "  </tbody>\n",
       "</table>\n",
       "</div>"
      ],
      "text/plain": [
       "                                              bigram  count\n",
       "0  (less two mile icelands reykjavik airport sits...      1\n",
       "1  (least thats idea intensive mining bitcoin run...      1\n",
       "2  (high school student france may among first pe...      1\n",
       "3  (tldr indepth complete blockchain ethereum pro...      1\n",
       "4  (robot colleague satoshi nakaboto writes bitco...      1\n",
       "5  (robot colleague satoshi nakaboto writes bitco...      1\n",
       "6  (robot colleague satoshi nakaboto writes bitco...      1\n",
       "7  (robot colleague satoshi nakaboto writes bitco...      1\n",
       "8  (twitter square ceo jack dorsey ha attended bi...      1\n",
       "9  (robot colleague satoshi nakaboto writes bitco...      1"
      ]
     },
     "execution_count": 82,
     "metadata": {},
     "output_type": "execute_result"
    }
   ],
   "source": [
    "# Get the top 10 words for Bitcoin\n",
    "bitcoin_tokens=[' '.join(r) for r in bitcoin_sentiments.Tokens]\n",
    "bitcoin_df=token_count(bitcoin_tokens)\n",
    "bitcoin_df"
   ]
  },
  {
   "cell_type": "code",
   "execution_count": null,
   "metadata": {},
   "outputs": [],
   "source": [
    "# Get the top 10 words for Ethereum"
   ]
  },
  {
   "cell_type": "markdown",
   "metadata": {},
   "source": [
    "# Word Clouds\n",
    "\n",
    "In this section, you will generate word clouds for each coin to summarize the news for each coin"
   ]
  },
  {
   "cell_type": "code",
   "execution_count": null,
   "metadata": {},
   "outputs": [],
   "source": [
    "from wordcloud import WordCloud\n",
    "import matplotlib.pyplot as plt\n",
    "plt.style.use('seaborn-whitegrid')\n",
    "import matplotlib as mpl\n",
    "mpl.rcParams['figure.figsize'] = [20.0, 10.0]"
   ]
  },
  {
   "cell_type": "code",
   "execution_count": null,
   "metadata": {},
   "outputs": [],
   "source": [
    "# Generate the Bitcoin word cloud"
   ]
  },
  {
   "cell_type": "code",
   "execution_count": null,
   "metadata": {},
   "outputs": [],
   "source": [
    "# Generate the Ethereum word cloud"
   ]
  },
  {
   "cell_type": "markdown",
   "metadata": {},
   "source": [
    "# Named Entity Recognition\n",
    "\n",
    "In this section, you will build a named entity recognition model for both coins and visualize the tags using SpaCy."
   ]
  },
  {
   "cell_type": "code",
   "execution_count": null,
   "metadata": {},
   "outputs": [],
   "source": [
    "import spacy\n",
    "from spacy import displacy"
   ]
  },
  {
   "cell_type": "code",
   "execution_count": null,
   "metadata": {},
   "outputs": [],
   "source": [
    "# Optional - download a language model for SpaCy\n",
    "# !python -m spacy download en_core_web_sm"
   ]
  },
  {
   "cell_type": "code",
   "execution_count": null,
   "metadata": {},
   "outputs": [],
   "source": [
    "# Load the spaCy model\n",
    "nlp = spacy.load('en_core_web_sm')"
   ]
  },
  {
   "cell_type": "markdown",
   "metadata": {},
   "source": [
    "## Bitcoin NER"
   ]
  },
  {
   "cell_type": "code",
   "execution_count": null,
   "metadata": {},
   "outputs": [],
   "source": [
    "# Concatenate all of the bitcoin text together"
   ]
  },
  {
   "cell_type": "code",
   "execution_count": null,
   "metadata": {},
   "outputs": [],
   "source": [
    "# Run the NER processor on all of the text\n",
    "\n",
    "# Add a title to the document"
   ]
  },
  {
   "cell_type": "code",
   "execution_count": null,
   "metadata": {},
   "outputs": [],
   "source": [
    "# Render the visualization"
   ]
  },
  {
   "cell_type": "code",
   "execution_count": null,
   "metadata": {},
   "outputs": [],
   "source": [
    "# List all Entities"
   ]
  },
  {
   "cell_type": "markdown",
   "metadata": {},
   "source": [
    "---"
   ]
  },
  {
   "cell_type": "markdown",
   "metadata": {},
   "source": [
    "## Ethereum NER"
   ]
  },
  {
   "cell_type": "code",
   "execution_count": null,
   "metadata": {},
   "outputs": [],
   "source": [
    "# Concatenate all of the bitcoin text together"
   ]
  },
  {
   "cell_type": "code",
   "execution_count": null,
   "metadata": {},
   "outputs": [],
   "source": [
    "# Run the NER processor on all of the text\n",
    "\n",
    "# Add a title to the document"
   ]
  },
  {
   "cell_type": "code",
   "execution_count": null,
   "metadata": {},
   "outputs": [],
   "source": [
    "# Render the visualization"
   ]
  },
  {
   "cell_type": "code",
   "execution_count": null,
   "metadata": {},
   "outputs": [],
   "source": [
    "# List all Entities"
   ]
  }
 ],
 "metadata": {
  "file_extension": ".py",
  "kernelspec": {
   "display_name": "Python 3",
   "language": "python",
   "name": "python3"
  },
  "language_info": {
   "codemirror_mode": {
    "name": "ipython",
    "version": 3
   },
   "file_extension": ".py",
   "mimetype": "text/x-python",
   "name": "python",
   "nbconvert_exporter": "python",
   "pygments_lexer": "ipython3",
   "version": "3.7.3"
  },
  "mimetype": "text/x-python",
  "name": "python",
  "npconvert_exporter": "python",
  "pygments_lexer": "ipython3",
  "version": 3
 },
 "nbformat": 4,
 "nbformat_minor": 4
}
